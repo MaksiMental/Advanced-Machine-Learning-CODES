{
 "cells": [
  {
   "cell_type": "markdown",
   "metadata": {
    "id": "H0F0BJdACsRq"
   },
   "source": [
    "## Task 0.2: Preparations - Jupyter\n",
    "\n",
    "ITU KSADMAL1KU-NLP - Advanced Machine Learning for NLP in KCS 2024\n",
    "\n",
    "by Stefan Heinrich, Bertram Højer, Christian H. Rasmussen, & material by Kevin Murphy.\n",
    "\n",
    "All info and static material: https://learnit.itu.dk/course/view.php?id=3024579\n",
    "\n",
    "-------------------------------------------------------------------------------"
   ]
  },
  {
   "cell_type": "code",
   "execution_count": null,
   "metadata": {
    "id": "1KQG9HJ7CsRr",
    "ExecuteTime": {
     "end_time": "2023-11-23T16:11:19.963429400Z",
     "start_time": "2023-11-23T16:11:19.908392900Z"
    }
   },
   "outputs": [],
   "source": [
    "# @title #### Import dependencies\n",
    "print(\"Testing all requirements. You are good if no exception pops up.\")\n",
    "\n",
    "import numpy as np\n",
    "import pandas as pd\n",
    "from sklearn.preprocessing import normalize\n",
    "import matplotlib.pyplot as plt\n",
    "import seaborn as sns"
   ]
  },
  {
   "cell_type": "code",
   "execution_count": null,
   "outputs": [],
   "source": [
    "# @title #### Test plotting in jupyter\n",
    "\n",
    "a = np.array([1, 2])\n",
    "e = sns.lineplot(data=a)\n",
    "\n",
    "print(\"You should see a simple plot. Testing done.\")"
   ],
   "metadata": {
    "id": "g5aN5DVDSN5N",
    "ExecuteTime": {
     "end_time": "2023-11-23T16:11:20.127254200Z",
     "start_time": "2023-11-23T16:11:19.968896700Z"
    }
   }
  }
 ],
 "metadata": {
  "kernelspec": {
   "display_name": "Python 3 (ipykernel)",
   "language": "python",
   "name": "python3"
  },
  "language_info": {
   "codemirror_mode": {
    "name": "ipython",
    "version": 3
   },
   "file_extension": ".py",
   "mimetype": "text/x-python",
   "name": "python",
   "nbconvert_exporter": "python",
   "pygments_lexer": "ipython3",
   "version": "3.8.10"
  },
  "colab": {
   "provenance": []
  }
 },
 "nbformat": 4,
 "nbformat_minor": 0
}
