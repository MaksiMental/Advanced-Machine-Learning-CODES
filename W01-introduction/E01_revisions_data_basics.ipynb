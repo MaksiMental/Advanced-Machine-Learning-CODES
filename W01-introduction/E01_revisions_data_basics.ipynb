{
 "cells": [
  {
   "cell_type": "markdown",
   "metadata": {
    "collapsed": true,
    "pycharm": {
     "name": "#%% md\n"
    },
    "id": "Ir8KPeYdliFp"
   },
   "source": [
    "## Task 1.3: Revisions - Data processing basics in python\n",
    "\n",
    "ITU KSADMAL1KU-NLP - Advanced Machine Learning for NLP in KCS 2024\n",
    "\n",
    "by Stefan Heinrich, Bertram Højer, Christian H. Rasmussen, & material by Kevin Murphy.\n",
    "\n",
    "All info and static material: https://learnit.itu.dk/course/view.php?id=3024579\n",
    "\n",
    "-------------------------------------------------------------------------------"
   ]
  },
  {
   "cell_type": "code",
   "execution_count": null,
   "metadata": {
    "pycharm": {
     "name": "#%% Import libraries\n"
    },
    "id": "f6wnsSRYliFr"
   },
   "outputs": [],
   "source": [
    "# @title #### Import dependencies\n",
    "\n",
    "from IPython.display import display\n",
    "import numpy as np\n",
    "import pandas as pd\n",
    "import scipy as scp \n",
    "import matplotlib.pyplot as plt\n",
    "import seaborn as sns"
   ]
  },
  {
   "cell_type": "markdown",
   "metadata": {
    "id": "O0e5EPJ9liFs"
   },
   "source": [
    "#### Load Iris dataset\n",
    "\n",
    "https://archive.ics.uci.edu/ml/datasets/iris"
   ]
  },
  {
   "cell_type": "code",
   "execution_count": null,
   "metadata": {
    "pycharm": {
     "name": "#%%\n"
    },
    "id": "KesvtQYGliFs"
   },
   "outputs": [],
   "source": [
    "# next line allows to download the file, in case you run this in Colab\n",
    "#!wget https://datahub.io/machine-learning/iris/r/iris.csv -O ../data/iris.csv\n",
    "\n",
    "iris_file = \"../data/iris.csv\"\n",
    "iris_url = \"https://archive.ics.uci.edu/ml/machine-learning-databases/iris/iris.data\""
   ]
  },
  {
   "cell_type": "markdown",
   "metadata": {
    "pycharm": {
     "name": "#%% md\n"
    },
    "id": "A7pqixEnliFs"
   },
   "source": [
    "#### Load iris dataset as numpy ndarray\n",
    "\n",
    "Task: briefly experiment with different scopes on the data \n",
    "\n",
    "https://docs.scipy.org/doc/numpy/reference/generated/numpy.ndarray.html\n"
   ]
  },
  {
   "cell_type": "code",
   "execution_count": null,
   "metadata": {
    "pycharm": {
     "name": "#%%\n"
    },
    "id": "KOf7CDgVliFs"
   },
   "outputs": [],
   "source": [
    "iris_data_np = np.genfromtxt(iris_file, delimiter=',', names=True, \n",
    "                        dtype=[float, float, float, float, 'U15'])\n",
    "# problem: since data types are mixed, \n",
    "# the numpy array is not a 2D matrix, but a list of tuples\n",
    "print(iris_data_np.dtype)\n",
    "print(iris_data_np[:8])\n",
    "\n",
    "# we need to select all variables of the same type do cast an numpy array that returns a matrix\n",
    "iris_data_np_inputs = np.array([d[:-1] for d in iris_data_np.tolist()])\n",
    "iris_data_np_targets = [d[-1] for d in iris_data_np.tolist()]\n",
    "print(iris_data_np_inputs.dtype, \"\\n\")\n",
    "print(iris_data_np_inputs[:8], \"\\n\")\n",
    "print(iris_data_np_targets[:8], \"\\n\")\n",
    "\n",
    "# conversion from labels to ids is a bit complicated\n",
    "iris_classes = sorted(set(iris_data_np_targets))\n",
    "iris_classes_dict = {iris_classes[i]:i for i in range(len(iris_classes))}\n",
    "iris_data_np_targets_ids = np.array([iris_classes_dict[t] for t in iris_data_np_targets])\n",
    "print(iris_data_np_targets_ids[:8])   \n"
   ]
  },
  {
   "cell_type": "markdown",
   "metadata": {
    "id": "Wr3SbZ2QliFt"
   },
   "source": [
    "#### Load iris dataset as pandas dataframe\n",
    "\n",
    "Task: learn + test different properties of dataframes - accessing & indexing, \n",
    "conversion, computations & basic statistics\n",
    "\n",
    "https://pandas.pydata.org/pandas-docs/stable/reference/api/pandas.DataFrame.html"
   ]
  },
  {
   "cell_type": "code",
   "execution_count": null,
   "metadata": {
    "pycharm": {
     "name": "#%%\n"
    },
    "id": "m6LiM7uRliFt"
   },
   "outputs": [],
   "source": [
    "# the pandas dataframe already takes care for mixed data types\n",
    "iris_data_pd = pd.read_csv(iris_file)\n",
    "\n",
    "print(iris_data_pd.dtypes, \"\\n\")\n",
    "print(iris_data_pd[:8], \"\\n\")\n",
    "print(iris_data_pd['sepallength'][:8])\n",
    "\n",
    "# pandas dataframe can be displayed nicely with jupyter\n",
    "display(iris_data_pd)\n"
   ]
  },
  {
   "cell_type": "markdown",
   "source": [
    "#### Analyse data with scipy\n",
    "\n",
    "Task: explore subpackages in scipy to explore \n",
    "\n",
    "https://docs.scipy.org/doc/scipy/reference/"
   ],
   "metadata": {
    "collapsed": false,
    "id": "iPRwoB-ZliFu"
   }
  },
  {
   "cell_type": "code",
   "execution_count": null,
   "outputs": [],
   "source": [
    "print(scp.stats.describe(iris_data_np_inputs))\n",
    "print(scp.stats.skew(iris_data_np_inputs[:,0]))\n",
    "print(scp.stats.skew(iris_data_np_inputs[:,1]))\n"
   ],
   "metadata": {
    "pycharm": {
     "name": "#%%\n"
    },
    "id": "vvxAWjGVliFu"
   }
  },
  {
   "cell_type": "markdown",
   "metadata": {
    "id": "NPCbyHipliFu"
   },
   "source": [
    "#### Plot with matplotlib\n",
    "\n",
    "Task: briefly inspect different options for visualisations with matplotlib, \n",
    "create a fig that compares all combinations of variables in scatter poly \n",
    "using six subplots\n",
    "\n",
    "https://matplotlib.org/3.2.2/gallery/index.html"
   ]
  },
  {
   "cell_type": "code",
   "execution_count": null,
   "metadata": {
    "pycharm": {
     "name": "#%%\n"
    },
    "id": "Eo3K3qabliFu"
   },
   "outputs": [],
   "source": [
    "fig_m, ax_m = plt.subplots()\n",
    "m_colors = ['blue','orange','green']\n",
    "m_x = iris_data_np_inputs[:,0]\n",
    "m_y = iris_data_np_inputs[:,1]\n",
    "m_t = [m_colors[t] for t in iris_data_np_targets_ids]\n",
    "ax_m.scatter(m_x, m_y, c=m_t, s=15.0)\n",
    "# legends are a sometimes complicated (\"hacky\") as well:\n",
    "fake_line = [plt.Line2D([0,0],[0,0],color=color, marker='o', linestyle='') \n",
    "             for color in set(m_t)]\n",
    "ax_m.legend(fake_line, iris_classes)"
   ]
  },
  {
   "cell_type": "markdown",
   "metadata": {
    "id": "7RuEffF9liFv"
   },
   "source": [
    "#### Plot with seaborn\n",
    "\n",
    "Task: inspect plotting options in seaborn, and get familiar with controlling \n",
    "the output graphs by modifying: appearances (colormaps, symbols) and \n",
    "information (legends, axis labels)\n",
    "https://seaborn.pydata.org/examples/index.html"
   ]
  },
  {
   "cell_type": "code",
   "execution_count": null,
   "metadata": {
    "pycharm": {
     "name": "#%%\n"
    },
    "id": "ACuUm7R4liFv"
   },
   "outputs": [],
   "source": [
    "p_x = iris_data_pd['sepallength']\n",
    "p_y = iris_data_pd['sepalwidth']\n",
    "p_t = iris_data_pd['class']\n",
    "ax_m = sns.scatterplot(x=p_x, y=p_y, hue=p_t)"
   ]
  },
  {
   "cell_type": "markdown",
   "source": [
    "## Optional Exercises:\n",
    "- Recapitulate data loading options with numpy and pandas\n",
    "- Recapitulate plotting options in matplotlib and seaborn"
   ],
   "metadata": {
    "collapsed": false,
    "pycharm": {
     "name": "#%% md\n"
    },
    "id": "d0qtA6fxliFv"
   }
  }
 ],
 "metadata": {
  "kernelspec": {
   "display_name": "Python 3",
   "language": "python",
   "name": "python3"
  },
  "language_info": {
   "codemirror_mode": {
    "name": "ipython",
    "version": 3
   },
   "file_extension": ".py",
   "mimetype": "text/x-python",
   "name": "python",
   "nbconvert_exporter": "python",
   "pygments_lexer": "ipython3",
   "version": "3.6.8"
  },
  "colab": {
   "provenance": []
  }
 },
 "nbformat": 4,
 "nbformat_minor": 0
}
