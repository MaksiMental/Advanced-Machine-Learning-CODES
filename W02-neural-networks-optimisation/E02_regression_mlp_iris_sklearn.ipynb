{
 "cells": [
  {
   "cell_type": "markdown",
   "metadata": {
    "pycharm": {
     "name": "#%% md\n"
    },
    "id": "Am--_HK5BVlL"
   },
   "source": [
    "## Exercise 2.3: MLP basics with sklearn\n",
    "\n",
    "ITU KSADMAL1KU-NLP - Advanced Machine Learning for NLP in KCS 2024\n",
    "\n",
    "by Stefan Heinrich, Bertram Højer, Christian H. Rasmussen, & material by Kevin Murphy.\n",
    "\n",
    "All info and static material: https://learnit.itu.dk/course/view.php?id=3024579\n",
    "\n",
    "-------------------------------------------------------------------------------"
   ]
  },
  {
   "cell_type": "code",
   "execution_count": null,
   "metadata": {
    "pycharm": {
     "name": "#%% Import libraries\n"
    },
    "id": "8riDr4DHBVlO"
   },
   "outputs": [],
   "source": [
    "# @title #### import dependencies\n",
    "\n",
    "from IPython.display import display\n",
    "import numpy as np\n",
    "import pandas as pd\n",
    "import random\n",
    "import matplotlib.pyplot as plt\n",
    "from sklearn.linear_model import LogisticRegression\n",
    "from sklearn import datasets\n",
    "from sklearn import model_selection\n",
    "from sklearn import metrics\n",
    "from sklearn import neural_network\n",
    "import seaborn as sns"
   ]
  },
  {
   "cell_type": "markdown",
   "metadata": {
    "pycharm": {
     "name": "#%% md\n"
    },
    "id": "lqSda-SmBVlP"
   },
   "source": [
    "#### Loading Iris dataset with seaborn\n"
   ]
  },
  {
   "cell_type": "code",
   "execution_count": null,
   "metadata": {
    "pycharm": {
     "name": "#%%\n"
    },
    "id": "FERNcytpBVlP"
   },
   "outputs": [],
   "source": [
    "iris_df = sns.load_dataset(\"iris\")\n",
    "\n",
    "display(iris_df.head(n=3))\n",
    "\n",
    "plot_raw = sns.scatterplot(x=iris_df['sepal_length'], y=iris_df['sepal_width'],\n",
    "                           hue=iris_df['species'])"
   ]
  },
  {
   "cell_type": "markdown",
   "metadata": {
    "pycharm": {
     "name": "#%% md\n"
    },
    "id": "QoW7BufMBVlQ"
   },
   "source": [
    "#### Run logistic regression via sklearn\n",
    "\n",
    "https://scikit-learn.org/stable/modules/generated/sklearn.linear_model.LogisticRegression.html#sklearn.linear_model.LogisticRegression"
   ]
  },
  {
   "cell_type": "code",
   "execution_count": null,
   "metadata": {
    "pycharm": {
     "name": "#%%\n"
    },
    "id": "2ELWRhEmBVlQ"
   },
   "outputs": [],
   "source": [
    "# Create an instance of Logistic Regression Classifier and fit the data.\n",
    "r_strength = 100000  # Inverse of regularization strength in [1,Inf]\n",
    "l_solver = 'newton-cg'  # Optimisation algorithm in ['newton-cg', 'lbfgs', 'liblinear', 'sag', 'saga']\n",
    "m_class = 'multinomial'  # see documentation\n",
    "\n",
    "logreg = LogisticRegression(C=r_strength, solver=l_solver,\n",
    "                            multi_class=m_class)\n",
    "\n",
    "# directly access iris_df['sepal_length'] and iris_df['sepal_width']\n",
    "iris_df_inputs = iris_df[['sepal_length', 'sepal_width']]\n",
    "display(iris_df.head(n=3))\n",
    "# other options:\n",
    "#iris_inputs = iris_df.values[:,:2]\n",
    "#iris_inputs = iris_df.iloc[:,:2]\n",
    "\n",
    "#convert 'species' from labels to ids\n",
    "iris_classes = list(set(iris_df['species']))\n",
    "iris_classes_dict = {iris_classes[k]: k for k in range(len(iris_classes))}\n",
    "iris_species_ids = iris_df['species'].replace(iris_classes_dict)\n",
    "\n",
    "# we only take the first two features\n",
    "#logreg.fit(iris_data_inputs[:, :2], iris_data_targets_ids)\n",
    "logreg.fit(iris_df_inputs, iris_species_ids)\n",
    "\n",
    "# Plot the decision boundary. For that, we will assign a color to each\n",
    "# point in the mesh [x_min, x_max]x[y_min, y_max].\n",
    "x_min, x_max = iris_df['sepal_length'].min() - .5, iris_df['sepal_length'].max() + .5\n",
    "y_min, y_max = iris_df['sepal_width'].min() - .5, iris_df['sepal_width'].max() + .5\n",
    "h = .02  # step size in the mesh\n",
    "xx, yy = np.meshgrid(np.arange(x_min, x_max, h), np.arange(y_min, y_max, h))\n",
    "print(xx)\n",
    "print(yy)\n",
    "Z = logreg.predict(np.c_[xx.ravel(), yy.ravel()])  # this is not a clean way to do and will raise a warning (we only process values here, but trained with dataframes that had names), but for our purpose that's fine\n",
    "Z = Z.reshape(xx.shape)\n",
    "\n",
    "plot_rsk = sns.scatterplot(x=iris_df['sepal_length'], y=iris_df['sepal_width'],\n",
    "                           hue=iris_df['species'], cmap=plt.cm.Paired)\n",
    "plot_rsk.pcolormesh(xx, yy, Z, cmap=plt.cm.Paired, alpha=0.1)\n"
   ]
  },
  {
   "cell_type": "markdown",
   "metadata": {
    "pycharm": {
     "name": "#%% md\n"
    },
    "id": "TCnGKDQbBVlR"
   },
   "source": [
    "#### Perform supervised training of an MLP via sklearn\n",
    "\n",
    "https://scikit-learn.org/stable/modules/neural_networks_supervised.html"
   ]
  },
  {
   "cell_type": "code",
   "execution_count": null,
   "metadata": {
    "pycharm": {
     "name": "#%%\n"
    },
    "id": "82KZllh7BVlS"
   },
   "outputs": [],
   "source": [
    "n_datapoints = len(iris_df)\n",
    "# here we define, which variables we want to use as input for learning\n",
    "iris_df_inp = iris_df[\n",
    "    ['sepal_length', 'sepal_width', 'petal_length', 'petal_width']]\n",
    "iris_df_out = iris_df['species']\n",
    "\n",
    "p_random_seed = 13\n",
    "p_datasplit = 0.2  # how much percent of the data is used for testing\n",
    "random.seed(p_random_seed)  # init the random generator with a seed\n",
    "\n",
    "# for the split we use the sklearn model_selection module\n",
    "iris_df_inp_train, iris_df_inp_test, iris_df_out_train, iris_df_out_test = model_selection.train_test_split(\n",
    "    iris_df_inp, iris_df_out, test_size=p_datasplit,\n",
    "    random_state=p_random_seed)\n",
    "#display(iris_df_inp_train.head(n=3), iris_df_out_train.head(n=3))\n",
    "#display(iris_df_inp_test.head(n=3), iris_df_out_test.head(n=3))"
   ]
  },
  {
   "cell_type": "code",
   "execution_count": null,
   "metadata": {
    "pycharm": {
     "name": "#%%\n"
    },
    "id": "igUPM88hBVlS"
   },
   "outputs": [],
   "source": [
    "# parameters for the MLP shape\n",
    "hidden_layer_sizes = (5, 4)  # tuple of sizes of hidden layers\n",
    "activation ='relu'  # activation_fkt, {‘identity’, ‘logistic’, ‘tanh’, ‘relu’}\n",
    "\n",
    "#parameters for the learning\n",
    "solver = 'sgd'  # optimizer, {‘lbfgs’, ‘sgd’, ‘adam’}\n",
    "learning_rate_init = 0.01  # learning_rate, try something smaller first!\n",
    "learning_rate = 'constant'  # learning_rate_type, {‘constant’, ‘invscaling’, ‘adaptive’}\n",
    "max_iter = 20  # epoches, number of training interations\n",
    "batch_size = 1  # number of training examples per epoch\n",
    "momentum = 0.95  # [0,1]\n",
    "\n",
    "clf_mlp = neural_network.MLPClassifier(\n",
    "    random_state=p_random_seed, solver=solver, activation=activation,\n",
    "    hidden_layer_sizes=hidden_layer_sizes, learning_rate_init=learning_rate_init,\n",
    "    max_iter=max_iter, learning_rate=learning_rate, momentum=momentum,\n",
    "    batch_size=batch_size, nesterovs_momentum=True, alpha=1e-05,\n",
    "    beta_1=0.9, beta_2=0.999, epsilon=1e-08, early_stopping=False,\n",
    "    n_iter_no_change=10, power_t=0.5, tol=0.0001, validation_fraction=0.1,\n",
    "    shuffle=True, verbose=False, warm_start=False)\n",
    "\n",
    "clf_mlp.fit(iris_df_inp_train, iris_df_out_train)\n",
    "test_accuracy = clf_mlp.score(iris_df_inp_test, iris_df_out_test)\n",
    "print(\"Prediction accuracy:\", test_accuracy)\n",
    "\n",
    "## **uncomment this for iterative fitting (to see every epoch)\n",
    "# for k in range(max_iter):\n",
    "#     clf_mlp.partial_fit(iris_df_inp_train, iris_df_out_train,\n",
    "#                     classes=list(set(iris_df['species'])))\n",
    "#     test_accuracy = clf_mlp.score(iris_df_inp_test, iris_df_out_test)\n",
    "#     print(\"Prediction epoch: \",k,\" accuracy:\", test_accuracy)\n"
   ]
  },
  {
   "cell_type": "markdown",
   "metadata": {
    "pycharm": {
     "name": "#%% md\n"
    },
    "id": "ovQeyftDBVlT"
   },
   "source": [
    "#### Analyse the mlp training results\n",
    "\n",
    "The following plots are examples for getting *some* understanding of the model performance."
   ]
  },
  {
   "cell_type": "code",
   "execution_count": null,
   "metadata": {
    "pycharm": {
     "name": "#%%\n"
    },
    "id": "kB1U2SbTBVlT"
   },
   "outputs": [],
   "source": [
    "test_pred = clf_mlp.predict(iris_df_inp_test)\n",
    "print(metrics.classification_report(iris_df_out_test, test_pred))\n",
    "\n",
    "confusion_matrix = metrics.confusion_matrix(iris_df_out_test, test_pred)\n",
    "plot_tree_cm = sns.heatmap(confusion_matrix, annot=True, center=0)\n",
    "plot_tree_cm.set_xlabel('predicted label')\n",
    "plot_tree_cm.set_ylabel('true label')"
   ]
  },
  {
   "cell_type": "code",
   "execution_count": null,
   "metadata": {
    "pycharm": {
     "name": "#%%\n"
    },
    "id": "Wks2chdhBVlT"
   },
   "outputs": [],
   "source": [
    "#plot the exact predictions\n",
    "pred = clf_mlp.predict(iris_df_inp_test)\n",
    "print(\"Prediction:\", list(zip(*[pred, iris_df_out_test])))\n",
    "\n",
    "proba = clf_mlp.predict_proba(iris_df_inp_test)\n",
    "print(\"Prediction probabilities:\", proba)\n",
    "\n",
    "#plot the resulting weight matrix\n",
    "print(\"Weights:\", display([coef.shape for coef in clf_mlp.coefs_],  clf_mlp.coefs_))"
   ]
  }
 ],
 "metadata": {
  "kernelspec": {
   "display_name": "Python 3 (ipykernel)",
   "language": "python",
   "name": "python3"
  },
  "language_info": {
   "codemirror_mode": {
    "name": "ipython",
    "version": 3
   },
   "file_extension": ".py",
   "mimetype": "text/x-python",
   "name": "python",
   "nbconvert_exporter": "python",
   "pygments_lexer": "ipython3",
   "version": "3.8.10"
  },
  "colab": {
   "provenance": []
  }
 },
 "nbformat": 4,
 "nbformat_minor": 0
}
